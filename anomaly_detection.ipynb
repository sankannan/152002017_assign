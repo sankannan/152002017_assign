{
  "nbformat": 4,
  "nbformat_minor": 0,
  "metadata": {
    "colab": {
      "name": "anomaly_detection",
      "provenance": [],
      "authorship_tag": "ABX9TyPgO6H+gSjh5DTBCkUMUloU",
      "include_colab_link": true
    },
    "kernelspec": {
      "name": "python3",
      "display_name": "Python 3"
    },
    "language_info": {
      "name": "python"
    }
  },
  "cells": [
    {
      "cell_type": "markdown",
      "metadata": {
        "id": "view-in-github",
        "colab_type": "text"
      },
      "source": [
        "<a href=\"https://colab.research.google.com/github/sankannan/152002017_assign/blob/master/anomaly_detection.ipynb\" target=\"_parent\"><img src=\"https://colab.research.google.com/assets/colab-badge.svg\" alt=\"Open In Colab\"/></a>"
      ]
    },
    {
      "cell_type": "code",
      "metadata": {
        "colab": {
          "base_uri": "https://localhost:8080/",
          "height": 421
        },
        "id": "zJIv-cD9taUb",
        "outputId": "463f2dac-d88e-4c9d-8cc7-51c98cc5cb54"
      },
      "source": [
        "import numpy as np\n",
        "import matplotlib.pyplot as plt\n",
        "import numpy as np \n",
        "  \n",
        "  \n",
        "# Origin array \n",
        "cpu=np.random.randint(20,50,(500,1)) \n",
        "#print(cpu) \n",
        "\n",
        "\n",
        "  \n",
        "mu1= np.mean(cpu) \n",
        "print(\"\\nMean: \", mu1) \n",
        "  \n",
        "sigma1 = np.std(cpu) \n",
        "print(\"\\nStandard deviation:\", sigma1)\n",
        "print() \n",
        "  \n",
        "var = np.var(cpu) \n",
        "\n",
        "x1_gauss= np.random.normal(mu1, sigma1, 500)\n",
        "#print(x1_gauss)\n",
        "#inserting outliers\n",
        "\n",
        "\n",
        "x1_gauss=np.array(x1_gauss)\n",
        "\n",
        "#adding anomaly\n",
        "x1_gauss=np.append(x1,[30,35,25,112,124],axis=None)\n",
        "sns.distplot(x1_gauss)\n",
        "\n",
        "\n",
        "#x1=np.extend([123,214,1223])"
      ],
      "execution_count": null,
      "outputs": [
        {
          "output_type": "stream",
          "text": [
            "\n",
            "Mean:  34.42\n",
            "\n",
            "Standard deviation: 8.619953596162802\n",
            "\n"
          ],
          "name": "stdout"
        },
        {
          "output_type": "stream",
          "text": [
            "/usr/local/lib/python3.7/dist-packages/seaborn/distributions.py:2557: FutureWarning: `distplot` is a deprecated function and will be removed in a future version. Please adapt your code to use either `displot` (a figure-level function with similar flexibility) or `histplot` (an axes-level function for histograms).\n",
            "  warnings.warn(msg, FutureWarning)\n"
          ],
          "name": "stderr"
        },
        {
          "output_type": "execute_result",
          "data": {
            "text/plain": [
              "<matplotlib.axes._subplots.AxesSubplot at 0x7f341d9f4190>"
            ]
          },
          "metadata": {
            "tags": []
          },
          "execution_count": 658
        },
        {
          "output_type": "display_data",
          "data": {
            "image/png": "[encoded data removed]",
            "text/plain": [
              "<Figure size 432x288 with 1 Axes>"
            ]
          },
          "metadata": {
            "tags": [],
            "needs_background": "light"
          }
        }
      ]
    },
    {
      "cell_type": "code",
      "metadata": {
        "colab": {
          "base_uri": "https://localhost:8080/",
          "height": 421
        },
        "id": "r3w2ABGzFeax",
        "outputId": "2f887973-aed5-4b2b-f096-e42a684f8925"
      },
      "source": [
        "mem = np.random.randint(0,1000,(500,1)) \n",
        "#print(mem) \n",
        "\n",
        "  \n",
        "mu2= np.mean(mem) \n",
        "print(\"\\nMean: \", mu2) \n",
        "  \n",
        "sigma2 = np.std(mem) \n",
        "print(\"\\nStandard deviation: \", sigma2) \n",
        "print()\n",
        "  \n",
        "var = np.var(mem) \n",
        "\n",
        "x2_gauss = np.random.normal(mu2, sigma2, 500)\n",
        "#print(x2_gauss)\n",
        "\n",
        "\n",
        "x2_gauss=np.array(x2_gauss)\n",
        "\n",
        "#adding anomaly \n",
        "x2_gauss=np.append(x2,[1214,2340,230,154,890],axis=None)\n",
        "sns.distplot(x2_gauss)\n",
        "\n"
      ],
      "execution_count": null,
      "outputs": [
        {
          "output_type": "stream",
          "text": [
            "\n",
            "Mean:  517.804\n",
            "\n",
            "Standard deviation:  291.935461333494\n",
            "\n"
          ],
          "name": "stdout"
        },
        {
          "output_type": "stream",
          "text": [
            "/usr/local/lib/python3.7/dist-packages/seaborn/distributions.py:2557: FutureWarning: `distplot` is a deprecated function and will be removed in a future version. Please adapt your code to use either `displot` (a figure-level function with similar flexibility) or `histplot` (an axes-level function for histograms).\n",
            "  warnings.warn(msg, FutureWarning)\n"
          ],
          "name": "stderr"
        },
        {
          "output_type": "execute_result",
          "data": {
            "text/plain": [
              "<matplotlib.axes._subplots.AxesSubplot at 0x7f341dbf9210>"
            ]
          },
          "metadata": {
            "tags": []
          },
          "execution_count": 659
        },
        {
          "output_type": "display_data",
          "data": {
            "image/png": "[encoded data removed]",
            "text/plain": [
              "<Figure size 432x288 with 1 Axes>"
            ]
          },
          "metadata": {
            "tags": [],
            "needs_background": "light"
          }
        }
      ]
    },
    {
      "cell_type": "code",
      "metadata": {
        "id": "LGP3NugKRKbo"
      },
      "source": [
        "import pandas as pd\n",
        "\n",
        "def anomaly(value):\n",
        "  df=pd.DataFrame(value,columns=['Data'])\n",
        "  for col in df.columns:\n",
        "    col_zscore=col+'_zscore'\n",
        "    df[col_zscore] = (df[col]-df[col].mean())/df[col].std(ddof=0)\n",
        "  df['outlier']= (abs(df['Data_zscore'])>3).astype(int)\n",
        "  print(df.loc[df.outlier==1])\n",
        "  plt.scatter(df.Data,df.outlier)\n",
        "  plt.title(\"Outliers\")\n",
        "  plt.xlabel(\"Data\") \n",
        "  plt.ylabel(\"outliers located\")\n",
        "  plt.show() \n"
      ],
      "execution_count": null,
      "outputs": []
    },
    {
      "cell_type": "code",
      "metadata": {
        "colab": {
          "base_uri": "https://localhost:8080/",
          "height": 346
        },
        "id": "qRzkwSJcXQ_y",
        "outputId": "554a8de8-78a4-400b-cad5-dfeb1cc9ec66"
      },
      "source": [
        "anomaly(x1_gauss)\n",
        "#anomaly(x2_gauss)"
      ],
      "execution_count": null,
      "outputs": [
        {
          "output_type": "stream",
          "text": [
            "      Data  Data_zscore  outlier\n",
            "50  1214.0     3.030212        1\n",
            "51  2340.0     6.188391        1\n"
          ],
          "name": "stdout"
        },
        {
          "output_type": "display_data",
          "data": {
            "image/png": "[encoded data removed]",
            "text/plain": [
              "<Figure size 432x288 with 1 Axes>"
            ]
          },
          "metadata": {
            "tags": [],
            "needs_background": "light"
          }
        }
      ]
    }
  ]
}